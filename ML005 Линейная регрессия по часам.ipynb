{
 "cells": [
  {
   "cell_type": "markdown",
   "metadata": {},
   "source": [
    "### Постановка задачи\n",
    "Разделить набор данных на обучающие/проверочные в пропорции 80/20.\n",
    "\n",
    "Загрузить данные и очистить значения. Построить модель линейной регрессии для **каждого часа в отдельности**, используя температуру воздуха (air_temperature), влажность (dew_temperature), атмосферное давление (sea_level_pressure), скорость ветра (wind_speed) и облачность (cloud_coverage).\n",
    "\n",
    "Рассчитать качество построенной модели по проверочным данным.\n",
    "\n",
    "Данные:\n",
    "* http://video.ittensive.com/machine-learning/ashrae/building_metadata.csv.gz\n",
    "* http://video.ittensive.com/machine-learning/ashrae/weather_train.csv.gz\n",
    "* http://video.ittensive.com/machine-learning/ashrae/train.0.0.csv.gz\n",
    "Соревнование: https://www.kaggle.com/c/ashrae-energy-prediction/\n",
    "\n",
    "© ITtensive, 2020"
   ]
  },
  {
   "cell_type": "markdown",
   "metadata": {},
   "source": [
    "### Подключение библиотек"
   ]
  },
  {
   "cell_type": "code",
   "execution_count": 9,
   "metadata": {},
   "outputs": [],
   "source": [
    "%matplotlib inline\n",
    "import numpy as np\n",
    "import pandas as pd\n",
    "from sklearn.model_selection import train_test_split\n",
    "from sklearn.linear_model import LinearRegression"
   ]
  },
  {
   "cell_type": "markdown",
   "metadata": {},
   "source": [
    "### Загрузка данных"
   ]
  },
  {
   "cell_type": "code",
   "execution_count": 10,
   "metadata": {},
   "outputs": [],
   "source": [
    "buildings = pd.read_csv(\"http://video.ittensive.com/machine-learning/ashrae/building_metadata.csv.gz\")\n",
    "weather = pd.read_csv(\"http://video.ittensive.com/machine-learning/ashrae/weather_train.csv.gz\")\n",
    "energy_0 = pd.read_csv(\"http://video.ittensive.com/machine-learning/ashrae/train.0.0.csv.gz\")"
   ]
  },
  {
   "cell_type": "markdown",
   "metadata": {},
   "source": [
    "### Объединение и фильтрация данных"
   ]
  },
  {
   "cell_type": "code",
   "execution_count": 11,
   "metadata": {},
   "outputs": [
    {
     "name": "stdout",
     "output_type": "stream",
     "text": [
      "               timestamp  site_id  building_id  meter  meter_reading  \\\n",
      "704  2016-01-30 08:00:00        0            0      0        43.6839   \n",
      "725  2016-01-31 05:00:00        0            0      0        37.5408   \n",
      "737  2016-01-31 17:00:00        0            0      0        52.5571   \n",
      "2366 2016-04-08 14:00:00        0            0      0        59.3827   \n",
      "2923 2016-05-01 19:00:00        0            0      0       448.0000   \n",
      "\n",
      "     primary_use  square_feet  year_built  floor_count  air_temperature  \\\n",
      "704    Education         7432      2008.0          NaN              8.3   \n",
      "725    Education         7432      2008.0          NaN             12.8   \n",
      "737    Education         7432      2008.0          NaN             20.6   \n",
      "2366   Education         7432      2008.0          NaN             21.7   \n",
      "2923   Education         7432      2008.0          NaN             31.1   \n",
      "\n",
      "      cloud_coverage  dew_temperature  precip_depth_1_hr  sea_level_pressure  \\\n",
      "704              NaN              6.1                0.0              1019.0   \n",
      "725              NaN             10.0                0.0              1021.9   \n",
      "737              NaN             11.7                0.0              1020.9   \n",
      "2366             2.0             14.4                0.0              1015.1   \n",
      "2923             NaN             17.2                0.0              1016.1   \n",
      "\n",
      "      wind_direction  wind_speed  hour  \n",
      "704            220.0         2.1     8  \n",
      "725              0.0         0.0     5  \n",
      "737            110.0         1.5    17  \n",
      "2366           250.0         3.1    14  \n",
      "2923           100.0         4.1    19  \n"
     ]
    }
   ],
   "source": [
    "# объединяем в таблицу, с помощью параметра how=\"left\" мы указали, что главным #является датафрейм слева, название столбца – «building_id».\n",
    "energy_0 = pd.merge(left=energy_0, right=buildings, how=\"left\",\n",
    "                   left_on=\"building_id\", right_on=\"building_id\")\n",
    "# добавим отдельную серию «час» из «времени»\n",
    "# проиндексируем в таблице данных energy_0 по столбцам \"timestamp\", \"site_id\"\n",
    "energy_0.set_index([\"timestamp\", \"site_id\"], inplace=True)\n",
    "# проиндексируем в таблице данных weather по столбцам \"timestamp\", \"site_id\"\n",
    "weather.set_index([\"timestamp\", \"site_id\"], inplace=True)\n",
    "# объединяем в таблицу: слева данные energy_0, справа данные weather\n",
    "energy_0 = pd.merge(left=energy_0, right=weather, how=\"left\",\n",
    "                   left_index=True, right_index=True)\n",
    "# сбросим индекс по данным  energy_0\n",
    "energy_0.reset_index(inplace=True)\n",
    "# отфильтруем только положительные значения по столбцу meter_reading\n",
    "energy_0 = energy_0[energy_0[\"meter_reading\"] > 0]\n",
    "# преобразовываем формат времени в столбце timestamp\n",
    "energy_0[\"timestamp\"] = pd.to_datetime(energy_0[\"timestamp\"])\n",
    "# атрибут dt.hour возвращает массив данных  timestamp к базовым данным (2,4…) - # добавим отдельную серию «час» из «времени»\n",
    "energy_0[\"hour\"] = energy_0[\"timestamp\"].dt.hour\n",
    "# просмотрим первые строки\n",
    "print (energy_0.head())"
   ]
  },
  {
   "cell_type": "markdown",
   "metadata": {},
   "source": [
    "### Очистка данных"
   ]
  },
  {
   "cell_type": "code",
   "execution_count": 13,
   "metadata": {},
   "outputs": [
    {
     "name": "stdout",
     "output_type": "stream",
     "text": [
      "<class 'pandas.core.frame.DataFrame'>\n",
      "Int64Index: 5411 entries, 704 to 8783\n",
      "Data columns (total 17 columns):\n",
      " #   Column              Non-Null Count  Dtype         \n",
      "---  ------              --------------  -----         \n",
      " 0   timestamp           5411 non-null   datetime64[ns]\n",
      " 1   site_id             5411 non-null   int64         \n",
      " 2   building_id         5411 non-null   int64         \n",
      " 3   meter               5411 non-null   int64         \n",
      " 4   meter_reading       5411 non-null   float64       \n",
      " 5   primary_use         5411 non-null   object        \n",
      " 6   square_feet         5411 non-null   int64         \n",
      " 7   year_built          5411 non-null   float64       \n",
      " 8   floor_count         0 non-null      float64       \n",
      " 9   air_temperature     5411 non-null   float64       \n",
      " 10  cloud_coverage      5411 non-null   float64       \n",
      " 11  dew_temperature     5411 non-null   float64       \n",
      " 12  precip_depth_1_hr   5411 non-null   float64       \n",
      " 13  sea_level_pressure  5411 non-null   float64       \n",
      " 14  wind_direction      5411 non-null   float64       \n",
      " 15  wind_speed          5411 non-null   float64       \n",
      " 16  hour                5411 non-null   int64         \n",
      "dtypes: datetime64[ns](1), float64(10), int64(5), object(1)\n",
      "memory usage: 760.9+ KB\n",
      "None\n"
     ]
    }
   ],
   "source": [
    "#очистим данные: \n",
    "# для температуры воздуха, влажности, ветра и облачности заменим отсутствующие значения 0\n",
    "energy_0[\"air_temperature\"].fillna(0, inplace=True)\n",
    "energy_0[\"cloud_coverage\"].fillna(0, inplace=True)\n",
    "energy_0[\"dew_temperature\"].fillna(0, inplace=True)\n",
    "energy_0[\"wind_speed\"].fillna(0, inplace=True)\n",
    "#для осадков дополнительно занулим отрицательные значения\n",
    "energy_0[\"precip_depth_1_hr\"] = energy_0[\"precip_depth_1_hr\"].apply(lambda x:x if x>0 else 0)\n",
    "# для давления заменим отсутствующие значения средними\n",
    "energy_0_sea_level_pressure_mean = energy_0[\"sea_level_pressure\"].mean()\n",
    "energy_0[\"sea_level_pressure\"] = energy_0[\"sea_level_pressure\"].apply(lambda x:energy_0_sea_level_pressure_mean if x!=x else x)\n",
    "# для ветра заменим отсутствующие значения средними\n",
    "energy_0_wind_direction_mean = energy_0[\"wind_direction\"].mean()\n",
    "energy_0[\"wind_direction\"] = energy_0[\"wind_direction\"].apply(lambda x:energy_0_wind_direction_mean if x!=x else x)\n",
    "print (energy_0.info())\n",
    "#Посмотрим сводную информацию методом info():\n",
    "#мы узнаем, что в таблице 5411 строки (от 704 до 8783), \n",
    "# 17 столбцов - количество ненулевых значений (non-null), тип данных: \n",
    "#  int64 - целые числа (числа размером 8 байт);\n",
    "# object - абстракция Python для данных,\n",
    "# float64 – число с плавающей запятой (числа размером 8 байт).\n",
    "# datetime64 - выполнять операции, связанные с датой"
   ]
  },
  {
   "cell_type": "markdown",
   "metadata": {},
   "source": [
    "### Разделение данных"
   ]
  },
  {
   "cell_type": "code",
   "execution_count": 14,
   "metadata": {},
   "outputs": [
    {
     "name": "stdout",
     "output_type": "stream",
     "text": [
      "               timestamp  site_id  building_id  meter  meter_reading  \\\n",
      "4700 2016-07-14 20:00:00        0            0      0        252.547   \n",
      "8011 2016-11-29 19:00:00        0            0      0        182.926   \n",
      "3988 2016-06-15 04:00:00        0            0      0        319.438   \n",
      "7885 2016-11-24 13:00:00        0            0      0        177.466   \n",
      "5910 2016-09-03 06:00:00        0            0      0        249.135   \n",
      "\n",
      "     primary_use  square_feet  year_built  floor_count  air_temperature  \\\n",
      "4700   Education         7432      2008.0          NaN             32.2   \n",
      "8011   Education         7432      2008.0          NaN             28.9   \n",
      "3988   Education         7432      2008.0          NaN             25.0   \n",
      "7885   Education         7432      2008.0          NaN             18.3   \n",
      "5910   Education         7432      2008.0          NaN             24.4   \n",
      "\n",
      "      cloud_coverage  dew_temperature  precip_depth_1_hr  sea_level_pressure  \\\n",
      "4700             0.0             22.2                0.0              1017.6   \n",
      "8011             0.0             17.2                0.0              1014.8   \n",
      "3988             0.0             23.3                0.0              1016.9   \n",
      "7885             4.0             16.7                0.0              1023.8   \n",
      "5910             8.0             22.8                0.0              1015.6   \n",
      "\n",
      "      wind_direction  wind_speed  hour  \n",
      "4700           130.0         6.7    20  \n",
      "8011           170.0         5.7    19  \n",
      "3988           190.0         2.1     4  \n",
      "7885           340.0         1.5    13  \n",
      "5910           170.0         2.1     6  \n"
     ]
    }
   ],
   "source": [
    "# Данные подготовлены для расчетов\n",
    "# Выделим 20% всех данных на проверку, остальные оставим на обучение\n",
    "# используя модуль train_test_split разделяем данные для машинного обучения.\n",
    "# переменная test_size фактически указывает пропорцию набора тестов – 20%.\n",
    "energy_0_train, energy_0_test = train_test_split(energy_0, test_size=0.2)\n",
    "print (energy_0_train.head())"
   ]
  },
  {
   "cell_type": "markdown",
   "metadata": {},
   "source": [
    "### Линейная регрессия по часам\n",
    "Модель включает air_temperature, dew_temperature, sea_level_pressure, wind_speed, cloud_coverage"
   ]
  },
  {
   "cell_type": "code",
   "execution_count": 16,
   "metadata": {},
   "outputs": [
    {
     "name": "stdout",
     "output_type": "stream",
     "text": [
      "[array([ 5.44405199e+00,  1.61424619e+00, -5.42134894e-01, -3.04074328e+00,\n",
      "       -6.54427991e-01,  6.36035032e+02]), array([ 6.62433690e+00,  4.40658626e-01, -1.22318773e+00, -2.97220626e+00,\n",
      "       -1.04520925e+00,  1.32323999e+03]), array([   7.09177915,    1.05324252,    0.36015524,   -1.5691924 ,\n",
      "         -1.4446757 , -310.42659221]), array([ 7.10499829e+00,  1.02204451e-01, -5.71783693e-02, -2.93316073e+00,\n",
      "        3.83580096e+00,  1.34698975e+02]), array([ 8.70225723e+00, -1.77968944e+00, -1.07036592e+00, -4.18565821e+00,\n",
      "        3.11944288e+00,  1.17247560e+03]), array([   9.85191663,   -2.38297073,    0.39767277,   -1.30570005,\n",
      "         -0.50021534, -339.2809219 ]), array([ 8.16563043e+00, -7.44710389e-01, -5.28029943e-02, -1.80253887e+00,\n",
      "       -1.15038810e+00,  1.32915948e+02]), array([  7.23692888,   0.49470246,   0.15269225,  -1.20293475,\n",
      "         1.67882484, -84.15323242]), array([ 1.10609184e+01, -3.78086359e+00, -6.92343330e-01, -4.63356425e+00,\n",
      "        2.24392908e+00,  7.87095300e+02]), array([ 1.27854008e+01, -5.31275718e+00, -6.29204622e-01, -5.34148925e+00,\n",
      "       -6.77566901e-01,  7.14654017e+02]), array([ 1.53404174e+01, -7.85735603e+00, -1.50398497e+00, -6.00219381e+00,\n",
      "        1.21399299e+00,  1.60042464e+03]), array([ 1.78220736e+01, -9.14028940e+00, -1.08426315e+00, -4.16551422e+00,\n",
      "        2.73255444e+00,  1.13911177e+03]), array([ 1.19395815e+01, -4.36457005e+00, -3.15819188e-01, -1.89242107e+00,\n",
      "       -2.39986259e+00,  3.92730884e+02]), array([ 1.13786305e+01, -4.01409609e+00, -8.58388593e-01, -1.56118196e+00,\n",
      "        5.53686984e-01,  9.27034671e+02]), array([ 1.13544755e+01, -2.37036475e+00, -9.13227979e-01, -5.77737141e-01,\n",
      "       -3.51186139e+00,  9.32795524e+02]), array([ 1.09234005e+01, -2.44492077e+00, -1.82149348e+00, -6.74919824e-01,\n",
      "        2.88787173e-01,  1.84848976e+03]), array([ 8.29075898e+00, -5.42233607e-01, -2.18649690e+00, -3.15279938e+00,\n",
      "       -7.56540589e-01,  2.25525521e+03]), array([ 7.11802070e+00,  1.43382171e+00, -1.51144521e+00, -2.29319652e+00,\n",
      "       -3.42103551e+00,  1.55408879e+03]), array([ 2.30477054e+00,  4.45794536e+00, -5.47802503e-01,  1.06596404e+00,\n",
      "       -4.66771042e+00,  6.61934673e+02]), array([ 2.69916163e+00,  2.70974809e+00, -1.86499415e+00, -1.95241229e+00,\n",
      "       -1.05093865e-01,  2.01092370e+03]), array([ 1.15115613e+00,  3.48317577e+00, -7.45828693e-01, -9.74776304e-01,\n",
      "        1.47799648e+00,  8.99883642e+02]), array([ 2.79046250e+00,  3.93104344e+00, -1.87737455e-01, -5.82735516e-01,\n",
      "       -2.08716974e+00,  2.78654145e+02]), array([ 3.58707168e+00,  3.10800518e+00,  3.87155915e-01,  6.30854925e-02,\n",
      "       -2.25440742e+00, -3.09307839e+02]), array([ 4.59542975e+00,  2.06951111e+00, -7.99799257e-01, -2.24092772e+00,\n",
      "        8.60008682e-02,  9.02727260e+02])]\n"
     ]
    }
   ],
   "source": [
    "#Модель включает: \n",
    "# температуру воздуха (air_temperature), \n",
    "# влажность (dew_temperature), \n",
    "# атмосферное давление (sea_level_pressure), \n",
    "# скорость ветра (wind_speed), \n",
    "# облачность (cloud_coverage),\n",
    "# а так же топливный эквивалент (meter_reading)\n",
    "\n",
    "hours = range(0,24)\n",
    "energy_0_train_lr = pd.DataFrame(energy_0_train,\n",
    "    columns=[\"meter_reading\", \"air_temperature\", \"dew_temperature\",\n",
    "             \"sea_level_pressure\", \"wind_speed\", \"cloud_coverage\", \"hour\"])\n",
    "# заведем списки параметров модели, добавим в него все коэффициенты для каждого часа\n",
    "\n",
    "energy_0_lr = [[]]*len(hours)\n",
    "for hour in hours:\n",
    "    energy_0_train_lr_hourly = energy_0_train_lr[energy_0_train_lr[\"hour\"]==hour]\n",
    "    y = energy_0_train_lr_hourly[\"meter_reading\"]\n",
    "    x = energy_0_train_lr_hourly.drop(labels=[\"meter_reading\",\"hour\"], axis=1)\n",
    "    model = LinearRegression().fit(x, y)\n",
    "    energy_0_lr[hour] = model.coef_\n",
    "    # с помощью функции append объединим два массива \n",
    "    energy_0_lr[hour] = np.append(energy_0_lr[hour], model.intercept_)\n",
    "    del energy_0_train_lr_hourly\n",
    "print (energy_0_lr)"
   ]
  },
  {
   "cell_type": "markdown",
   "metadata": {},
   "source": [
    "### Предсказание и оценка модели"
   ]
  },
  {
   "cell_type": "code",
   "execution_count": 7,
   "metadata": {},
   "outputs": [
    {
     "name": "stdout",
     "output_type": "stream",
     "text": [
      "Качество почасовой линейной регрессии, 5 параметров: 0.2186534211678374 0.2\n"
     ]
    }
   ],
   "source": [
    "def calculate_model (x):\n",
    "    model = energy_0_lr[x.hour]\n",
    "    meter_reading_log = np.log(x.meter_reading + 1)\n",
    "    meter_reading_lr = np.log(1 + x.air_temperature * model[0] + \n",
    "        x.dew_temperature * model[1] + x.sea_level_pressure * model[2] +\n",
    "        x.wind_speed * model[3] + x.cloud_coverage * model[4] + model[5])\n",
    "    x[\"meter_reading_lr_q\"] = (meter_reading_log - meter_reading_lr)**2\n",
    "    return x\n",
    "\n",
    "energy_0_test = energy_0_test.apply(calculate_model,\n",
    "                                    axis=1, result_type=\"expand\")\n",
    "energy_0_test_lr_rmsle = np.sqrt(energy_0_test[\"meter_reading_lr_q\"].sum() / len(energy_0_test))\n",
    "print (\"Качество почасовой линейной регрессии, 5 параметров:\",\n",
    "       energy_0_test_lr_rmsle, round(energy_0_test_lr_rmsle, 1))"
   ]
  }
 ],
 "metadata": {
  "kernelspec": {
   "display_name": "Python 3 (ipykernel)",
   "language": "python",
   "name": "python3"
  },
  "language_info": {
   "codemirror_mode": {
    "name": "ipython",
    "version": 3
   },
   "file_extension": ".py",
   "mimetype": "text/x-python",
   "name": "python",
   "nbconvert_exporter": "python",
   "pygments_lexer": "ipython3",
   "version": "3.9.13"
  }
 },
 "nbformat": 4,
 "nbformat_minor": 2
}
